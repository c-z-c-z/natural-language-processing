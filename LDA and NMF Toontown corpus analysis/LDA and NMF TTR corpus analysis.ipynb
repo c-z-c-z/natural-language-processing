{
 "cells": [
  {
   "cell_type": "code",
   "execution_count": 1,
   "id": "0a6cc020",
   "metadata": {},
   "outputs": [],
   "source": [
    "import os\n",
    "import pandas as pd\n",
    "import numpy as np\n",
    "import string"
   ]
  },
  {
   "cell_type": "code",
   "execution_count": 2,
   "id": "da10dc4b",
   "metadata": {},
   "outputs": [],
   "source": [
    "pd.set_option('display.max_rows', None)\n",
    "pd.set_option('display.max_columns', None)"
   ]
  },
  {
   "cell_type": "code",
   "execution_count": 3,
   "id": "b48b3974",
   "metadata": {},
   "outputs": [],
   "source": [
    "corpus = pd.read_csv('corpus.csv', header=None, names=['message'])"
   ]
  },
  {
   "cell_type": "code",
   "execution_count": 4,
   "id": "a3262200",
   "metadata": {},
   "outputs": [],
   "source": [
    "#Creating an extensive list of stop words to remove prior to any sort of analysis"
   ]
  },
  {
   "cell_type": "code",
   "execution_count": 5,
   "id": "7dc97ca2",
   "metadata": {},
   "outputs": [],
   "source": [
    "from sklearn.feature_extraction import _stop_words\n",
    "import nltk\n",
    "from nltk.corpus import stopwords\n",
    "\n",
    "nopuncwords = []\n",
    "for word in stopwords.words('english'):\n",
    "    nopunc = word.translate(str.maketrans('', '', string.punctuation))\n",
    "    nopuncwords.append(word)\n",
    "    if word != nopunc:\n",
    "        nopuncwords.append(word.translate(str.maketrans('', '', string.punctuation)))"
   ]
  },
  {
   "cell_type": "code",
   "execution_count": 6,
   "id": "dfd51dfa",
   "metadata": {},
   "outputs": [],
   "source": [
    "sklearnwords = []\n",
    "for word in _stop_words.ENGLISH_STOP_WORDS:\n",
    "    sklearnwords.append(word)"
   ]
  },
  {
   "cell_type": "code",
   "execution_count": 7,
   "id": "574f104e",
   "metadata": {},
   "outputs": [],
   "source": [
    "#Adding some of the most frequent words in the corpus that have little semantic content"
   ]
  },
  {
   "cell_type": "code",
   "execution_count": 8,
   "id": "4a72622e",
   "metadata": {},
   "outputs": [],
   "source": [
    "corpus['tokens'] = corpus['message'].str.split(' ')\n",
    "\n",
    "words = []\n",
    "for i in range(corpus.shape[0]):\n",
    "    message_length = len(corpus['tokens'].iloc[i])\n",
    "    for j in range(message_length):\n",
    "        words.append(corpus['tokens'].iloc[i][j])\n",
    "\n",
    "cleanwords = []\n",
    "for word in words:\n",
    "    word = word.lower()\n",
    "    word = word.translate(str.maketrans('', '', string.punctuation))\n",
    "    cleanwords.append(word)"
   ]
  },
  {
   "cell_type": "code",
   "execution_count": 9,
   "id": "9f6e0910",
   "metadata": {},
   "outputs": [],
   "source": [
    "word_df = pd.DataFrame(cleanwords[0].split(), columns=['token'])\n",
    "freq = word_df.value_counts().rename_axis('token').reset_index(name='counts')"
   ]
  },
  {
   "cell_type": "code",
   "execution_count": 10,
   "id": "9576e3fb",
   "metadata": {},
   "outputs": [],
   "source": [
    "stopwords2 = 'i, the, you, a, to, u, my, it, is, me, do, im, and, for, are, like, so, that, in, have, what, no, on, of, we, dont, get, hi, be, but, its, not, he,was, yes, can, ok, got, how, they, why, with, this, ur, thats, she, your,at, if, will, did, too, more, oh, yeah, when, am, wanna, them, ill, or,some, out, hey, where, whats, lets, then, cant, from, there, still, her, him,us, were, gonna, much, been, about, could, any, youre, would, shes, hes,  should, would, could, had, his, our, off, tho, as, ye, r, does, doing, did, ya, ive, than, okay, rn, has, an, mine, us, havent, ago, yo, isnt, doesnt,being, while, by, bc, hello, nah, though, done, whos, wont, didnt, having, cuz, went'\n",
    "stopwords_list = stopwords2.split(',')\n",
    "\n",
    "trimmed_sw = []\n",
    "for word in stopwords_list:\n",
    "    trimmed_sw.append(word.strip())"
   ]
  },
  {
   "cell_type": "code",
   "execution_count": 11,
   "id": "668fc228",
   "metadata": {},
   "outputs": [],
   "source": [
    "stopwords = nopuncwords + sklearnwords + trimmed_sw"
   ]
  },
  {
   "cell_type": "code",
   "execution_count": 12,
   "id": "e7272254",
   "metadata": {},
   "outputs": [],
   "source": [
    "#LDA analysis"
   ]
  },
  {
   "cell_type": "code",
   "execution_count": 13,
   "id": "4e642c88",
   "metadata": {},
   "outputs": [],
   "source": [
    "#LDA depends on word count probabilities, so we use CountVectorizer"
   ]
  },
  {
   "cell_type": "code",
   "execution_count": 14,
   "id": "e0ecd673",
   "metadata": {},
   "outputs": [],
   "source": [
    "from sklearn.feature_extraction.text import CountVectorizer"
   ]
  },
  {
   "cell_type": "code",
   "execution_count": 15,
   "id": "3e3c3ad4",
   "metadata": {},
   "outputs": [],
   "source": [
    "cv = CountVectorizer(stop_words=stopwords)"
   ]
  },
  {
   "cell_type": "code",
   "execution_count": 16,
   "id": "16ca9ed3",
   "metadata": {},
   "outputs": [],
   "source": [
    "dtm = cv.fit_transform(corpus['message'])"
   ]
  },
  {
   "cell_type": "code",
   "execution_count": 17,
   "id": "996cc2c9",
   "metadata": {},
   "outputs": [],
   "source": [
    "#Attempting to group into 10 topics\n",
    "from sklearn.decomposition import LatentDirichletAllocation\n",
    "lda = LatentDirichletAllocation(n_components=10, random_state=114)"
   ]
  },
  {
   "cell_type": "code",
   "execution_count": 18,
   "id": "6fed1fcd",
   "metadata": {},
   "outputs": [
    {
     "data": {
      "text/plain": [
       "LatentDirichletAllocation(random_state=114)"
      ]
     },
     "execution_count": 18,
     "metadata": {},
     "output_type": "execute_result"
    }
   ],
   "source": [
    "lda.fit(dtm)"
   ]
  },
  {
   "cell_type": "code",
   "execution_count": 19,
   "id": "16b52bc8",
   "metadata": {},
   "outputs": [
    {
     "name": "stdout",
     "output_type": "stream",
     "text": [
      "Top 20 words for topic #1:\n",
      "['dentist', 'hard', 'mouse', 'make', 'shoes', 'use', 'speak', 'sweet', 'quack', 'baby', 'drip', 'castle', 'maybe', 'xd', 'ima', 'bored', 'remember', 'gags', 'ty', 'lol']\n",
      "\n",
      "\n",
      "Top 20 words for topic #2:\n",
      "['stay', 'things', 'long', 'funny', 'glad', 'hq', 'left', 'group', 'great', 'sad', 'missed', 'building', 'eat', 'look', 'doodle', 'add', 'new', 'game', 'friend', 'want']\n",
      "\n",
      "\n",
      "Top 20 words for topic #3:\n",
      "['bet', 'works', 'tyvm', 'law', 'maxed', 'look', 'loud', 'jellybeans', 'work', 'gamer', 'let', 'cfo', 'tysm', 'come', 'real', 'guys', 'mean', 'toons', 'omg', 'toon']\n",
      "\n",
      "\n",
      "Top 20 words for topic #4:\n",
      "['jelly', 'bruno', 'wrong', 'plz', 'problem', 'vp', 'wow', 'guy', 'long', 'poor', 'woof', 'talking', 'hat', 'bye', 'pls', 'sorry', 'wait', 'nice', 'say', 'beans']\n",
      "\n",
      "\n",
      "Top 20 words for topic #5:\n",
      "['gabby', 'turn', 'caught', 'hate', 'thing', 'cj', 'mom', 'toons', 'legs', 'fight', 'muted', 'big', 'mad', 'dang', 'green', 'said', 'fun', 'help', 'know', 'good']\n",
      "\n",
      "\n",
      "Top 20 words for topic #6:\n",
      "['happy', 'playing', 'games', 'getting', 'stop', 'monkey', 'mouse', 'yea', 'care', 'weird', 'days', 'talk', 'ugly', 'tell', 'duck', 'right', 'bad', 'cat', 'love', 'need']\n",
      "\n",
      "\n",
      "Top 20 words for topic #7:\n",
      "['thinking', 'bit', 'years', 'wish', 'heck', 'golf', 'silly', 'feel', 'yall', 'seen', 'friends', 'fr', 'play', 'brb', 'idk', 'lot', 'cool', 'time', 'bean', 'thanks']\n",
      "\n",
      "\n",
      "Top 20 words for topic #8:\n",
      "['head', 'besties', 'pet', 'bro', 'shirt', 'crying', 'alright', 'short', 'blue', 'rip', 'beanfest', 'named', 'thought', 'jump', 'away', 'bruh', 'chloe', 'people', 'dog', 'thank']\n",
      "\n",
      "\n",
      "Top 20 words for topic #9:\n",
      "['million', 'ily', 'drippy', 'wants', 'coming', 'told', 'yay', 'stink', 'yw', 'wisdom', 'way', 'soon', 'miss', 'ttr', 'better', 'best', 'dad', 'day', 'going', 'think']\n",
      "\n",
      "\n",
      "Top 20 words for topic #10:\n",
      "['throw', 'boy', 'interesting', 'awesome', 'dead', 'unites', 'trolley', 'black', 'rose', 'cat', 'life', 'bestie', 'kind', 'lmho', 'update', 'really', 'man', 'sure', 'good', 'funny']\n",
      "\n",
      "\n"
     ]
    }
   ],
   "source": [
    "#Top 20 words for each topic\n",
    "for i, topic in enumerate(lda.components_):\n",
    "    print(f\"Top 20 words for topic #{i+1}:\")\n",
    "    print([cv.get_feature_names()[index] for index in topic.argsort()[-20:]])\n",
    "    print('\\n')"
   ]
  },
  {
   "cell_type": "code",
   "execution_count": 20,
   "id": "910bbe9d",
   "metadata": {},
   "outputs": [],
   "source": [
    "#Not particularly informative\n",
    "#No cohesive topics to be found - very interesting mix of quite specific words and \n",
    "#broad, general words"
   ]
  },
  {
   "cell_type": "code",
   "execution_count": 21,
   "id": "a6482d92",
   "metadata": {},
   "outputs": [],
   "source": [
    "topic_results = lda.transform(dtm)"
   ]
  },
  {
   "cell_type": "code",
   "execution_count": 22,
   "id": "361629f0",
   "metadata": {},
   "outputs": [],
   "source": [
    "corpus['LDA topic'] = (topic_results.argmax(axis=1)+1)"
   ]
  },
  {
   "cell_type": "code",
   "execution_count": 23,
   "id": "dd92ec6d",
   "metadata": {},
   "outputs": [],
   "source": [
    "#Calculating some metrics\n",
    "corpus['wordlength'] = corpus['tokens'].apply(len)\n",
    "corpus['charlength'] = corpus['message'].apply(len)"
   ]
  },
  {
   "cell_type": "code",
   "execution_count": 24,
   "id": "98f62cf8",
   "metadata": {},
   "outputs": [],
   "source": [
    "#Calculating polarities\n",
    "from vaderSentiment.vaderSentiment import SentimentIntensityAnalyzer\n",
    "analyzer = SentimentIntensityAnalyzer()"
   ]
  },
  {
   "cell_type": "code",
   "execution_count": 25,
   "id": "8a331dde",
   "metadata": {},
   "outputs": [],
   "source": [
    "corpus['scores'] = corpus['message'].apply(analyzer.polarity_scores)"
   ]
  },
  {
   "cell_type": "code",
   "execution_count": 26,
   "id": "74b9cde5",
   "metadata": {},
   "outputs": [],
   "source": [
    "def get_analysis(score):\n",
    "    if score >= 0.05:\n",
    "        return 'positive'\n",
    "    elif score <= -0.05:\n",
    "        return 'negative'\n",
    "    else:\n",
    "        return 'neutral'"
   ]
  },
  {
   "cell_type": "code",
   "execution_count": 27,
   "id": "74cc3a98",
   "metadata": {},
   "outputs": [],
   "source": [
    "compounds = []\n",
    "for i in range(len(corpus)):\n",
    "    compounds.append(corpus['scores'].iloc[i]['compound'])\n",
    "corpus['compounds'] = compounds\n",
    "corpus['polarity'] = corpus['compounds'].apply(get_analysis)\n",
    "corpus.drop(columns=['compounds', 'scores'], inplace=True)"
   ]
  },
  {
   "cell_type": "code",
   "execution_count": 28,
   "id": "7ee55aff",
   "metadata": {},
   "outputs": [],
   "source": [
    "#Getting some metrics to perform visualization"
   ]
  },
  {
   "cell_type": "code",
   "execution_count": 29,
   "id": "575eae16",
   "metadata": {},
   "outputs": [],
   "source": [
    "wordlen_mean = dict.fromkeys(range(1,11))\n",
    "wordlen_std = dict.fromkeys(range(1,11))\n",
    "charlen_mean = dict.fromkeys(range(1,11))\n",
    "charlen_std = dict.fromkeys(range(1,11))"
   ]
  },
  {
   "cell_type": "code",
   "execution_count": 30,
   "id": "bce54316",
   "metadata": {},
   "outputs": [],
   "source": [
    "for i in range(1,11):\n",
    "    wordlen_mean[i] = corpus[corpus['LDA topic'] == i].describe()['wordlength']['mean']\n",
    "wordmeans = list(wordlen_mean.values())\n",
    "    \n",
    "for i in range(1,11):\n",
    "    wordlen_std[i] = corpus[corpus['LDA topic'] == i].describe()['wordlength']['std']\n",
    "wordstds = list(wordlen_std.values())\n",
    "\n",
    "for i in range(1,11):\n",
    "    charlen_mean[i] = corpus[corpus['LDA topic'] == i].describe()['charlength']['mean']\n",
    "charmeans = list(charlen_mean.values())\n",
    "    \n",
    "for i in range(1,11):\n",
    "    charlen_std[i] = corpus[corpus['LDA topic'] == i].describe()['charlength']['std']\n",
    "charstds = list(charlen_std.values())"
   ]
  },
  {
   "cell_type": "code",
   "execution_count": 31,
   "id": "d541b7cf",
   "metadata": {},
   "outputs": [],
   "source": [
    "import matplotlib.pyplot as plt\n",
    "import seaborn as sns"
   ]
  },
  {
   "cell_type": "code",
   "execution_count": 32,
   "id": "7fd21aae",
   "metadata": {},
   "outputs": [],
   "source": [
    "metrics = pd.DataFrame({'topic':np.arange(1,11),\n",
    "                               'word len mean': wordmeans,\n",
    "                              'word len std': wordstds,\n",
    "                              'char len mean': charmeans,\n",
    "                              'char len std': charstds},\n",
    "                             index=np.arange(1,11))\n",
    "\n",
    "topics = range(1,11)\n",
    "means = metrics['word len mean'].values\n",
    "sd = metrics['word len std'].values\n",
    "char = metrics['char len mean'].values\n",
    "charsd = metrics['char len std'].values"
   ]
  },
  {
   "cell_type": "code",
   "execution_count": 33,
   "id": "dd045df0",
   "metadata": {},
   "outputs": [
    {
     "data": {
      "image/png": "[encoded data removed]",
      "text/plain": [
       "<Figure size 864x432 with 1 Axes>"
      ]
     },
     "metadata": {
      "needs_background": "light"
     },
     "output_type": "display_data"
    }
   ],
   "source": [
    "fig, ax = plt.subplots(figsize=(12,6))\n",
    "ax.bar(range(1,11), means, color='Purple', ecolor='Black', yerr=sd, alpha=0.5, width=0.8, capsize=5)\n",
    "ax.set_xticks(topics)\n",
    "ax.set_yticks(np.arange(0,9))\n",
    "ax.set_title('Mean message length in tokens: topic assignment with LDA')\n",
    "ax.set_xlabel('Topic')\n",
    "ax.set_ylabel('Length')\n",
    "ax.yaxis.grid(True);"
   ]
  },
  {
   "cell_type": "code",
   "execution_count": 34,
   "id": "42a05f5e",
   "metadata": {},
   "outputs": [
    {
     "data": {
      "image/png": "[encoded data removed]",
      "text/plain": [
       "<Figure size 864x432 with 1 Axes>"
      ]
     },
     "metadata": {
      "needs_background": "light"
     },
     "output_type": "display_data"
    }
   ],
   "source": [
    "fig, ax = plt.subplots(figsize=(12,6))\n",
    "ax.bar(range(1,11), char, color='Orange', ecolor='Black', yerr=charsd, alpha=0.75, width=0.8, capsize=5)\n",
    "ax.set_xticks(topics)\n",
    "ax.set_yticks(np.arange(0,41,5))\n",
    "ax.set_title('Mean message length in characters: topic assignment with LDA')\n",
    "ax.set_xlabel('Topic')\n",
    "ax.set_ylabel('Length')\n",
    "ax.yaxis.grid(True);"
   ]
  },
  {
   "cell_type": "code",
   "execution_count": 35,
   "id": "ccb196a3",
   "metadata": {},
   "outputs": [],
   "source": [
    "polarities = corpus.drop(columns=['message', 'tokens', 'wordlength', 'charlength'])"
   ]
  },
  {
   "cell_type": "code",
   "execution_count": 36,
   "id": "67432fe3",
   "metadata": {},
   "outputs": [],
   "source": [
    "palette1 = sns.color_palette(['#68966b', '#7b9ded', '#c46e6e'])"
   ]
  },
  {
   "cell_type": "code",
   "execution_count": 37,
   "id": "36f9e556",
   "metadata": {},
   "outputs": [
    {
     "data": {
      "image/png": "[encoded data removed]",
      "text/plain": [
       "<Figure size 864x432 with 1 Axes>"
      ]
     },
     "metadata": {
      "needs_background": "light"
     },
     "output_type": "display_data"
    }
   ],
   "source": [
    "plt.figure(figsize=(12,6))\n",
    "sns.countplot(data=polarities, x='LDA topic', hue='polarity', \n",
    "              hue_order=['positive', 'neutral', 'negative'], palette=palette1)\n",
    "plt.title('Polarity distribution by topic: assignment with LDA')\n",
    "plt.xlabel('Topic');"
   ]
  },
  {
   "cell_type": "code",
   "execution_count": 38,
   "id": "b414fdc7",
   "metadata": {},
   "outputs": [],
   "source": [
    "#Nothing jumps out except for the much higher frequency of messages assigned to topic 1\n",
    "#and given the seeming randomness / lack of cohesion of the top words in \n",
    "#each topic, I don't know why so many messages ended up in topic 1"
   ]
  },
  {
   "cell_type": "code",
   "execution_count": 39,
   "id": "8e5ed9bd",
   "metadata": {},
   "outputs": [],
   "source": [
    "#NMF analysis"
   ]
  },
  {
   "cell_type": "code",
   "execution_count": 40,
   "id": "12997d81",
   "metadata": {},
   "outputs": [],
   "source": [
    "#We use tfidf vectorization because we use coefficients for NMF"
   ]
  },
  {
   "cell_type": "code",
   "execution_count": 41,
   "id": "e4ea96aa",
   "metadata": {},
   "outputs": [],
   "source": [
    "from sklearn.feature_extraction.text import TfidfVectorizer"
   ]
  },
  {
   "cell_type": "code",
   "execution_count": 42,
   "id": "4086da7f",
   "metadata": {},
   "outputs": [],
   "source": [
    "#trying to strike a balance between terms that are overly unique and those that are overly frequent\n",
    "tfidf = TfidfVectorizer(max_df=0.95, min_df=4, stop_words=stopwords)"
   ]
  },
  {
   "cell_type": "code",
   "execution_count": 43,
   "id": "b3b8316e",
   "metadata": {},
   "outputs": [],
   "source": [
    "dtm_nmf = tfidf.fit_transform(corpus['message'])"
   ]
  },
  {
   "cell_type": "code",
   "execution_count": 44,
   "id": "3e1cf897",
   "metadata": {},
   "outputs": [],
   "source": [
    "from sklearn.decomposition import NMF\n",
    "nmf = NMF(n_components=10, random_state=114)"
   ]
  },
  {
   "cell_type": "code",
   "execution_count": 45,
   "id": "c6d261e2",
   "metadata": {},
   "outputs": [
    {
     "name": "stderr",
     "output_type": "stream",
     "text": [
      "/Users/ethancz/opt/anaconda3/lib/python3.9/site-packages/sklearn/decomposition/_nmf.py:312: FutureWarning: The 'init' value, when 'init=None' and n_components is less than n_samples and n_features, will be changed from 'nndsvd' to 'nndsvda' in 1.1 (renaming of 0.26).\n",
      "  warnings.warn((\"The 'init' value, when 'init=None' and \"\n"
     ]
    },
    {
     "data": {
      "text/plain": [
       "NMF(n_components=10, random_state=114)"
      ]
     },
     "execution_count": 45,
     "metadata": {},
     "output_type": "execute_result"
    }
   ],
   "source": [
    "nmf.fit(dtm_nmf)"
   ]
  },
  {
   "cell_type": "code",
   "execution_count": 46,
   "id": "096d3e6a",
   "metadata": {},
   "outputs": [
    {
     "name": "stdout",
     "output_type": "stream",
     "text": [
      "Top 20 words for topic 1:\n",
      "['sis', 'heck', 'yw', 'wow', 'bruh', 'muted', 'rip', 'eat', 'sure', 'tell', 'cool', 'time', 'new', 'going', 'thing', 'sweet', 'trolley', 'idk', 'know', 'lol']\n",
      "\n",
      "\n",
      "Top 20 words for topic 2:\n",
      "['guys', 'toons', 'follow', 'know', 'ppl', 'away', 'jelly', 'real', 'throw', 'time', 'drop', 'say', 'jump', 'love', 'plz', 'wants', 'poor', 'want', 'pls', 'beans']\n",
      "\n",
      "\n",
      "Top 20 words for topic 3:\n",
      "['omg', 'thought', 'turn', 'mad', 'yall', 'funny', 'duck', 'gotta', 'help', 'friend', 'plz', 'super', 'paige', 'papa', 'castle', 'phil', 'hope', 'sweet', 'real', 'ty']\n",
      "\n",
      "\n",
      "Top 20 words for topic 4:\n",
      "['bored', 'change', 'look', 'tysm', 'people', 'told', 'toontown', 'great', 'says', 'miss', 'person', 'dang', 'kind', 'ugh', 'guys', 'wow', 'dad', 'alright', 'million', 'thanks']\n",
      "\n",
      "\n",
      "Top 20 words for topic 5:\n",
      "['cog', 'pet', 'shirt', 'maxed', 'laff', 'rip', 'lvl', 'care', 'friends', 'trolley', 'cogs', 'fish', 'people', '12', 'game', 'help', 'jellybeans', 'doodle', 'gags', 'need']\n",
      "\n",
      "\n",
      "Top 20 words for topic 6:\n",
      "['game', 'thx', 'money', 'steel', 'gift', 'times', 'main', 'years', 'making', 'huh', 'girl', 'working', 'thing', 'wood', 'bad', 'time', 'fun', 'toons', 'friend', 'good']\n",
      "\n",
      "\n",
      "Top 20 words for topic 7:\n",
      "['friend', 'tiny', 'black', 'yall', 'gave', 'away', 'besties', 'people', 'wednesday', 'ily', 'baby', 'later', 'stuff', 'wow', 'jellybeans', 'guys', 'yay', 'cat', 'love', 'thank']\n",
      "\n",
      "\n",
      "Top 20 words for topic 8:\n",
      "['think', 'xd', 'change', 'feel', 'gloves', 'matching', 'kind', 'person', 'tiny', 'dad', 'talk', 'look', 'bruh', 'right', 'toons', 'laggy', 'love', 'nice', 'tysm', 'omg']\n",
      "\n",
      "\n",
      "Top 20 words for topic 9:\n",
      "['200', 'green', 'unites', 'baby', 'whisper', 'man', 'friends', 'day', 'pay', 'moment', 'gf', 'great', 'yea', 'real', 'big', 'party', 'want', 'castle', 'people', 'bean']\n",
      "\n",
      "\n",
      "Top 20 words for topic 10:\n",
      "['wait', 'chloe', 'girl', 'old', 'original', 'friend', 'funny', 'big', 'tysm', 'play', 'friends', 'multi', 'look', 'come', 'named', 'cool', 'time', 'new', 'know', 'toon']\n",
      "\n",
      "\n"
     ]
    }
   ],
   "source": [
    "for index, topic in enumerate(nmf.components_):\n",
    "    print(f\"Top 20 words for topic {index+1}:\")\n",
    "    print([tfidf.get_feature_names()[i] for i in topic.argsort()[-20:]])\n",
    "    print('\\n')"
   ]
  },
  {
   "cell_type": "code",
   "execution_count": 47,
   "id": "9ac6f1e6",
   "metadata": {},
   "outputs": [],
   "source": [
    "topic = nmf.transform(dtm_nmf)"
   ]
  },
  {
   "cell_type": "code",
   "execution_count": 48,
   "id": "7d8f2204",
   "metadata": {},
   "outputs": [],
   "source": [
    "corpus['NMF topic'] = (topic.argmax(axis=1)+1)"
   ]
  },
  {
   "cell_type": "code",
   "execution_count": 49,
   "id": "07034299",
   "metadata": {},
   "outputs": [],
   "source": [
    "#Checking out metrics again"
   ]
  },
  {
   "cell_type": "code",
   "execution_count": 50,
   "id": "bbba858d",
   "metadata": {},
   "outputs": [],
   "source": [
    "wordlen_mean2 = dict.fromkeys(range(1,11))\n",
    "wordlen_std2 = dict.fromkeys(range(1,11))\n",
    "charlen_mean2 = dict.fromkeys(range(1,11))\n",
    "charlen_std2 = dict.fromkeys(range(1,11))"
   ]
  },
  {
   "cell_type": "code",
   "execution_count": 51,
   "id": "b3a14754",
   "metadata": {},
   "outputs": [],
   "source": [
    "for i in range(1,11):\n",
    "    wordlen_mean2[i] = corpus[corpus['NMF topic'] == i].describe()['wordlength']['mean']\n",
    "wordmeans2 = list(wordlen_mean2.values())\n",
    "    \n",
    "for i in range(1,11):\n",
    "    wordlen_std2[i] = corpus[corpus['NMF topic'] == i].describe()['wordlength']['std']\n",
    "wordstds2 = list(wordlen_std2.values())\n",
    "\n",
    "for i in range(1,11):\n",
    "    charlen_mean2[i] = corpus[corpus['NMF topic'] == i].describe()['charlength']['mean']\n",
    "charmeans2 = list(charlen_mean2.values())\n",
    "    \n",
    "for i in range(1,11):\n",
    "    charlen_std2[i] = corpus[corpus['NMF topic'] == i].describe()['charlength']['std']\n",
    "charstds2 = list(charlen_std2.values())"
   ]
  },
  {
   "cell_type": "code",
   "execution_count": 52,
   "id": "38b3ba9c",
   "metadata": {},
   "outputs": [],
   "source": [
    "metrics2 = pd.DataFrame({'topic':np.arange(1,11),\n",
    "                               'word len mean': wordmeans2,\n",
    "                              'word len std': wordstds2,\n",
    "                              'char len mean': charmeans2,\n",
    "                              'char len std': charstds2},\n",
    "                             index=np.arange(1,11))\n",
    "\n",
    "topics = range(1,11)\n",
    "means2 = metrics['word len mean'].values\n",
    "sd2 = metrics['word len std'].values\n",
    "char2 = metrics['char len mean'].values\n",
    "charsd2 = metrics['char len std'].values"
   ]
  },
  {
   "cell_type": "code",
   "execution_count": 53,
   "id": "83e5f599",
   "metadata": {},
   "outputs": [
    {
     "data": {
      "image/png": "[encoded data removed]",
      "text/plain": [
       "<Figure size 864x432 with 1 Axes>"
      ]
     },
     "metadata": {
      "needs_background": "light"
     },
     "output_type": "display_data"
    }
   ],
   "source": [
    "fig, ax = plt.subplots(figsize=(12,6))\n",
    "ax.bar(range(1,11), means2, color='Green', ecolor='Black', yerr=sd2, alpha=0.5, width=0.8, capsize=5)\n",
    "ax.set_xticks(topics)\n",
    "ax.set_yticks(np.arange(0,9))\n",
    "ax.set_title('Mean message length in tokens: topic assignment with NMF')\n",
    "ax.set_xlabel('Topic')\n",
    "ax.set_ylabel('Length')\n",
    "ax.yaxis.grid(True);"
   ]
  },
  {
   "cell_type": "code",
   "execution_count": 54,
   "id": "3ec81b31",
   "metadata": {},
   "outputs": [
    {
     "data": {
      "image/png": "[encoded data removed]",
      "text/plain": [
       "<Figure size 864x432 with 1 Axes>"
      ]
     },
     "metadata": {
      "needs_background": "light"
     },
     "output_type": "display_data"
    }
   ],
   "source": [
    "fig, ax = plt.subplots(figsize=(12,6))\n",
    "ax.bar(range(1,11), char2, color='Navy', ecolor='Black', yerr=charsd2, alpha=0.75, width=0.8, capsize=5)\n",
    "ax.set_xticks(topics)\n",
    "ax.set_yticks(np.arange(0,41,5))\n",
    "ax.set_title('Mean message length in characters: topic assignment with NMF')\n",
    "ax.set_xlabel('Topic')\n",
    "ax.set_ylabel('Length')\n",
    "ax.yaxis.grid(True);"
   ]
  },
  {
   "cell_type": "code",
   "execution_count": 55,
   "id": "9930fe31",
   "metadata": {},
   "outputs": [],
   "source": [
    "polarities2 = corpus.drop(columns=['message', 'tokens', 'wordlength', 'charlength', 'LDA topic'])"
   ]
  },
  {
   "cell_type": "code",
   "execution_count": 56,
   "id": "7b861bf6",
   "metadata": {},
   "outputs": [
    {
     "data": {
      "image/png": "[encoded data removed]",
      "text/plain": [
       "<Figure size 864x432 with 1 Axes>"
      ]
     },
     "metadata": {
      "needs_background": "light"
     },
     "output_type": "display_data"
    }
   ],
   "source": [
    "plt.figure(figsize=(12,6))\n",
    "sns.countplot(data=polarities2, x='NMF topic', hue='polarity', \n",
    "              hue_order=['positive', 'neutral', 'negative'], palette=palette1)\n",
    "plt.title('Polarity distribution by topic: assignment with NMF')\n",
    "plt.xlabel('Topic');"
   ]
  },
  {
   "cell_type": "code",
   "execution_count": 57,
   "id": "f051ca53",
   "metadata": {},
   "outputs": [],
   "source": [
    "#Topics 1 and 10 have been assigned noticeably more messages\n",
    "#and some topics have nearly no messages"
   ]
  },
  {
   "cell_type": "code",
   "execution_count": 58,
   "id": "b018fb0d",
   "metadata": {},
   "outputs": [],
   "source": [
    "#The only even vaguely salient observation I feel I can make here is the\n",
    "#higher proportion of positive messages in topic 6 and the fact that its\n",
    "#top 20 words contain 'fun', 'friend', 'good', 'gift'"
   ]
  },
  {
   "cell_type": "code",
   "execution_count": 59,
   "id": "1892ad6b",
   "metadata": {},
   "outputs": [
    {
     "name": "stdout",
     "output_type": "stream",
     "text": [
      "Topic 1: 1649 messages\n",
      "Topic 2: 262 messages\n",
      "Topic 3: 78 messages\n",
      "Topic 4: 61 messages\n",
      "Topic 5: 279 messages\n",
      "Topic 6: 322 messages\n",
      "Topic 7: 142 messages\n",
      "Topic 8: 195 messages\n",
      "Topic 9: 249 messages\n",
      "Topic 10: 763 messages\n"
     ]
    }
   ],
   "source": [
    "topic_counts = corpus['NMF topic'].value_counts()\n",
    "for i in range(1,11):\n",
    "    print(f\"Topic {i}:\", topic_counts[i], \"messages\")"
   ]
  },
  {
   "cell_type": "code",
   "execution_count": 60,
   "id": "0706a2bf",
   "metadata": {},
   "outputs": [],
   "source": [
    "#Why is this distribution the way that it is?"
   ]
  },
  {
   "cell_type": "code",
   "execution_count": 61,
   "id": "6b1f7ffb",
   "metadata": {},
   "outputs": [],
   "source": [
    "#Once again, based on the top 20 words for each topic, no topic has cohesive,\n",
    "#specific subject matter, messages that all relate to some concept"
   ]
  },
  {
   "cell_type": "code",
   "execution_count": 62,
   "id": "42557375",
   "metadata": {},
   "outputs": [],
   "source": [
    "#There is also no similarity between LDA and NMF in terms of the top 20 words\n",
    "#for each of the 10 topics"
   ]
  }
 ],
 "metadata": {
  "kernelspec": {
   "display_name": "Python 3 (ipykernel)",
   "language": "python",
   "name": "python3"
  },
  "language_info": {
   "codemirror_mode": {
    "name": "ipython",
    "version": 3
   },
   "file_extension": ".py",
   "mimetype": "text/x-python",
   "name": "python",
   "nbconvert_exporter": "python",
   "pygments_lexer": "ipython3",
   "version": "3.9.7"
  }
 },
 "nbformat": 4,
 "nbformat_minor": 5
}
