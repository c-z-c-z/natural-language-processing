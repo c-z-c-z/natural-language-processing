{
 "cells": [
  {
   "cell_type": "code",
   "execution_count": 1,
   "id": "0a6cc020",
   "metadata": {
    "tags": []
   },
   "outputs": [],
   "source": [
    "import os\n",
    "import pandas as pd\n",
    "import numpy as np\n",
    "import string"
   ]
  },
  {
   "cell_type": "code",
   "execution_count": 3,
   "id": "da10dc4b",
   "metadata": {},
   "outputs": [],
   "source": [
    "pd.set_option('display.max_rows', None)\n",
    "pd.set_option('display.max_columns', None)"
   ]
  },
  {
   "cell_type": "code",
   "execution_count": 6,
   "id": "b48b3974",
   "metadata": {},
   "outputs": [],
   "source": [
    "corpus = pd.read_csv('corpus.csv', header=None, names=['message'])"
   ]
  },
  {
   "cell_type": "code",
   "execution_count": 7,
   "id": "7dc97ca2",
   "metadata": {},
   "outputs": [],
   "source": [
    "#Creating an extensive list of stop words to remove prior to analysis\n",
    "from sklearn.feature_extraction import _stop_words\n",
    "import nltk\n",
    "from nltk.corpus import stopwords\n",
    "\n",
    "nopuncwords = []\n",
    "for word in stopwords.words('english'):\n",
    "    nopunc = word.translate(str.maketrans('', '', string.punctuation))\n",
    "    nopuncwords.append(word)\n",
    "    if word != nopunc:\n",
    "        nopuncwords.append(word.translate(str.maketrans('', '', string.punctuation)))"
   ]
  },
  {
   "cell_type": "code",
   "execution_count": 8,
   "id": "dfd51dfa",
   "metadata": {},
   "outputs": [],
   "source": [
    "sklearnwords = []\n",
    "for word in _stop_words.ENGLISH_STOP_WORDS:\n",
    "    sklearnwords.append(word)"
   ]
  },
  {
   "cell_type": "code",
   "execution_count": 9,
   "id": "4a72622e",
   "metadata": {},
   "outputs": [],
   "source": [
    "#Compiling all words in the corpus into a list\n",
    "#Splitting messages into tokens, cleaning words by rendering lowercase & removing punctuation\n",
    "\n",
    "corpus['tokens'] = corpus['message'].str.split(' ')\n",
    "\n",
    "words = []\n",
    "for i in range(corpus.shape[0]):\n",
    "    message_length = len(corpus['tokens'].iloc[i])\n",
    "    for j in range(message_length):\n",
    "        words.append(corpus['tokens'].iloc[i][j])\n",
    "\n",
    "cleanwords = []\n",
    "for word in words:\n",
    "    word = word.lower()\n",
    "    word = word.translate(str.maketrans('', '', string.punctuation))\n",
    "    cleanwords.append(word)"
   ]
  },
  {
   "cell_type": "code",
   "execution_count": 10,
   "id": "9f6e0910",
   "metadata": {},
   "outputs": [],
   "source": [
    "#Creating a data frame to display counts for each unique token\n",
    "word_df = pd.DataFrame(cleanwords[0].split(), columns=['token'])\n",
    "freq = word_df.value_counts().rename_axis('token').reset_index(name='counts')"
   ]
  },
  {
   "cell_type": "code",
   "execution_count": 11,
   "id": "9576e3fb",
   "metadata": {},
   "outputs": [],
   "source": [
    "#Adding additional personalized stop words based on these counts\n",
    "\n",
    "stopwords2 = 'i, the, you, a, to, u, my, it, is, me, do, im, and, for, are, like, so, that, in, have, what, \\\n",
    "on, of, we, get, hi, be, but, its, he, was, can, ok, got, how, they, why, with, this, ur, thats, she, your, \\\n",
    "at, if, will, did, too, more, oh, when, am, them, or, some, out, hey, where, whats, lets, then, from, there, still, \\\n",
    "her, him, us, were, gonna, much, been, about, could, any, youre, would, shes, hes, should, would, could, had, his, \\\n",
    "our, off, tho, as, r, does, doing, did, ive, than, okay, rn, has, an, mine, us, havent, ago, yo, isnt, being, while, \\\n",
    "by, bc, hello, though, done, whos, having, cuz, went'\n",
    "stopwords_list = stopwords2.split(',')\n",
    "\n",
    "trimmed_sw = []\n",
    "for word in stopwords_list:\n",
    "    trimmed_sw.append(word.strip())"
   ]
  },
  {
   "cell_type": "code",
   "execution_count": 12,
   "id": "668fc228",
   "metadata": {},
   "outputs": [],
   "source": [
    "stopwords = nopuncwords + sklearnwords + trimmed_sw"
   ]
  },
  {
   "cell_type": "code",
   "execution_count": 13,
   "id": "e7272254",
   "metadata": {},
   "outputs": [],
   "source": [
    "#LDA analysis\n",
    "#LDA depends on word count probabilities, so we use CountVectorizer"
   ]
  },
  {
   "cell_type": "code",
   "execution_count": 14,
   "id": "e0ecd673",
   "metadata": {},
   "outputs": [],
   "source": [
    "from sklearn.feature_extraction.text import CountVectorizer\n",
    "cv = CountVectorizer(stop_words=stopwords)\n",
    "dtm = cv.fit_transform(corpus['message'])"
   ]
  },
  {
   "cell_type": "code",
   "execution_count": 15,
   "id": "996cc2c9",
   "metadata": {
    "tags": []
   },
   "outputs": [
    {
     "data": {
      "text/plain": [
       "LatentDirichletAllocation(random_state=114)"
      ]
     },
     "execution_count": 15,
     "metadata": {},
     "output_type": "execute_result"
    }
   ],
   "source": [
    "#Attempting to group into 10 topics\n",
    "from sklearn.decomposition import LatentDirichletAllocation\n",
    "lda = LatentDirichletAllocation(n_components=10, random_state=114)\n",
    "lda.fit(dtm)"
   ]
  },
  {
   "cell_type": "code",
   "execution_count": 16,
   "id": "16b52bc8",
   "metadata": {},
   "outputs": [
    {
     "name": "stdout",
     "output_type": "stream",
     "text": [
      "Top 20 words for topic #1:\n",
      "['interesting', 'yw', 'quack', 'green', 'getting', 'drip', 'baby', 'rose', 'shoes', 'rip', 'use', 'cfo', 'castle', 'vp', 'dog', 'ttr', 'come', 'nice', 'bean', 'lol']\n",
      "\n",
      "\n",
      "Top 20 words for topic #2:\n",
      "['sad', 'wow', 'crying', 'dog', 'days', 'mom', 'laff', 'maybe', 'lot', 'pet', 'lmho', 'thought', 'real', 'remember', 'mad', 'time', 'play', 'guys', 'friend', 'bad']\n",
      "\n",
      "\n",
      "Top 20 words for topic #3:\n",
      "['look', 'job', 'left', 'loud', 'gum', 'wish', 'heck', 'sound', 'little', 'care', 'trolley', 'fun', 'gags', 'brb', 'say', 'mean', 'love', 'thank', 'need', 'ty']\n",
      "\n",
      "\n",
      "Top 20 words for topic #4:\n",
      "['gift', '12', 'law', 'try', 'cj', 'tasks', 'task', 'ready', 'way', 'turn', 'thing', 'mouse', 'bored', 'gamer', 'duck', 'sorry', 'game', 'cat', 'yes', 'good']\n",
      "\n",
      "\n",
      "Top 20 words for topic #5:\n",
      "['skirt', 'meter', 'doctor', 'sign', 'literally', 'stay', 'looking', 'told', 'know', 'silly', 'beanfest', 'muted', 'ugly', 'going', 'bye', 'idk', 'bruh', 'wait', 'right', 'cool']\n",
      "\n",
      "\n",
      "Top 20 words for topic #6:\n",
      "['friends', 'cat', 'hard', 'tp', 'wrong', 'dead', 'night', 'ill', 'let', 'kids', 'stop', 'ima', 'miss', 'best', 'named', 'day', 'new', 'funny', 'yeah', 'toon']\n",
      "\n",
      "\n",
      "Top 20 words for topic #7:\n",
      "['guy', 'cog', 'ah', 'goat', 'nah', 'later', 'life', 'work', 'unites', 'throw', 'woof', 'dad', 'ya', 'ill', 'said', 'help', 'need', 'omg', 'thanks', 'beans']\n",
      "\n",
      "\n",
      "Top 20 words for topic #8:\n",
      "['old', 'head', 'tbh', 'plz', 'boy', 'poor', 'short', 'shirt', 'bro', 'fish', 'hat', 'green', 'talk', 'add', 'really', 'better', 'toons', 'tysm', 'fr', 'big']\n",
      "\n",
      "\n",
      "Top 20 words for topic #9:\n",
      "['group', 'yep', 'seen', 'bestie', 'soon', 'friends', 'friend', 'fight', 'stuff', 'weird', 'away', 'jellybeans', 'eat', 'girl', 'update', 'people', 'long', 'dang', 'tell', 'chloe']\n",
      "\n",
      "\n",
      "Top 20 words for topic #10:\n",
      "['xd', 'yay', 'awesome', 'building', 'look', 'golf', 'maxed', 'sure', 'yall', 'jump', 'talking', 'ye', 'man', 'pls', 'doodle', 'beans', 'think', 'know', 'want', 'wanna']\n",
      "\n",
      "\n"
     ]
    }
   ],
   "source": [
    "#Top 20 words for each topic\n",
    "for i, topic in enumerate(lda.components_):\n",
    "    print(f\"Top 20 words for topic #{i+1}:\")\n",
    "    print([cv.get_feature_names()[index] for index in topic.argsort()[-20:]])\n",
    "    print('\\n')"
   ]
  },
  {
   "cell_type": "code",
   "execution_count": 17,
   "id": "910bbe9d",
   "metadata": {},
   "outputs": [],
   "source": [
    "#Not particularly informative\n",
    "#No cohesive topics to be found - very interesting mix of quite specific words and broad, general words"
   ]
  },
  {
   "cell_type": "code",
   "execution_count": 18,
   "id": "a6482d92",
   "metadata": {},
   "outputs": [],
   "source": [
    "topic_results = lda.transform(dtm)\n",
    "corpus['LDA_topic'] = (topic_results.argmax(axis=1)+1)"
   ]
  },
  {
   "cell_type": "code",
   "execution_count": 19,
   "id": "dd92ec6d",
   "metadata": {},
   "outputs": [],
   "source": [
    "#Calculating some metrics, length of messages in words and characters\n",
    "corpus['wordlength'] = corpus['tokens'].apply(len)\n",
    "corpus['charlength'] = corpus['message'].apply(len)"
   ]
  },
  {
   "cell_type": "code",
   "execution_count": 20,
   "id": "98f62cf8",
   "metadata": {},
   "outputs": [],
   "source": [
    "#Calculating polarities\n",
    "from vaderSentiment.vaderSentiment import SentimentIntensityAnalyzer\n",
    "analyzer = SentimentIntensityAnalyzer()\n",
    "corpus['scores'] = corpus['message'].apply(analyzer.polarity_scores)"
   ]
  },
  {
   "cell_type": "code",
   "execution_count": 21,
   "id": "74b9cde5",
   "metadata": {},
   "outputs": [],
   "source": [
    "#Creating a simple function to sort each message based on compound polarity score\n",
    "def get_analysis(score):\n",
    "    if score >= 0.05:\n",
    "        return 'positive'\n",
    "    elif score <= -0.05:\n",
    "        return 'negative'\n",
    "    else:\n",
    "        return 'neutral'"
   ]
  },
  {
   "cell_type": "code",
   "execution_count": 22,
   "id": "74cc3a98",
   "metadata": {},
   "outputs": [],
   "source": [
    "#Applying this function to each message's calculated compound polarity score\n",
    "compounds = []\n",
    "for i in range(len(corpus)):\n",
    "    compounds.append(corpus['scores'].iloc[i]['compound'])\n",
    "corpus['compounds'] = compounds\n",
    "corpus['polarity'] = corpus['compounds'].apply(get_analysis)\n",
    "corpus.drop(columns=['compounds', 'scores'], inplace=True)"
   ]
  },
  {
   "cell_type": "code",
   "execution_count": 23,
   "id": "7ee55aff",
   "metadata": {},
   "outputs": [],
   "source": [
    "#Collecting some metrics to perform visualization"
   ]
  },
  {
   "cell_type": "code",
   "execution_count": 24,
   "id": "575eae16",
   "metadata": {},
   "outputs": [],
   "source": [
    "#Preparing to compare means and standard deviations for message lengths in words & characters\n",
    "wordlen_mean = dict.fromkeys(range(1,11))\n",
    "wordlen_std = dict.fromkeys(range(1,11))\n",
    "charlen_mean = dict.fromkeys(range(1,11))\n",
    "charlen_std = dict.fromkeys(range(1,11))"
   ]
  },
  {
   "cell_type": "code",
   "execution_count": 25,
   "id": "bce54316",
   "metadata": {},
   "outputs": [],
   "source": [
    "#Collecting mean and standard deviation for message lengths for each topic\n",
    "\n",
    "for i in range(1,11):\n",
    "    wordlen_mean[i] = corpus[corpus['LDA_topic'] == i].describe()['wordlength']['mean']\n",
    "wordmeans = list(wordlen_mean.values())\n",
    "    \n",
    "for i in range(1,11):\n",
    "    wordlen_std[i] = corpus[corpus['LDA_topic'] == i].describe()['wordlength']['std']\n",
    "wordstds = list(wordlen_std.values())\n",
    "\n",
    "for i in range(1,11):\n",
    "    charlen_mean[i] = corpus[corpus['LDA_topic'] == i].describe()['charlength']['mean']\n",
    "charmeans = list(charlen_mean.values())\n",
    "    \n",
    "for i in range(1,11):\n",
    "    charlen_std[i] = corpus[corpus['LDA_topic'] == i].describe()['charlength']['std']\n",
    "charstds = list(charlen_std.values())"
   ]
  },
  {
   "cell_type": "code",
   "execution_count": 26,
   "id": "d541b7cf",
   "metadata": {},
   "outputs": [],
   "source": [
    "import matplotlib.pyplot as plt\n",
    "import seaborn as sns"
   ]
  },
  {
   "cell_type": "code",
   "execution_count": 27,
   "id": "7fd21aae",
   "metadata": {},
   "outputs": [],
   "source": [
    "metrics = pd.DataFrame({'topic':np.arange(1,11),\n",
    "                               'word_len_mean': wordmeans,\n",
    "                              'word_len_std': wordstds,\n",
    "                              'char_len_mean': charmeans,\n",
    "                              'char_len_std': charstds},\n",
    "                             index=np.arange(1,11))\n",
    "\n",
    "topics = range(1,11)\n",
    "means = metrics['word_len_mean'].values\n",
    "sd = metrics['word_len_std'].values\n",
    "char = metrics['char_len_mean'].values\n",
    "charsd = metrics['char_len_std'].values"
   ]
  },
  {
   "cell_type": "code",
   "execution_count": 28,
   "id": "dd045df0",
   "metadata": {},
   "outputs": [
    {
     "data": {
      "image/png": "[encoded data removed]",
      "text/plain": [
       "<Figure size 864x432 with 1 Axes>"
      ]
     },
     "metadata": {
      "needs_background": "light"
     },
     "output_type": "display_data"
    }
   ],
   "source": [
    "fig, ax = plt.subplots(figsize=(12,6))\n",
    "ax.bar(range(1,11), means, color='Purple', ecolor='Black', yerr=sd, alpha=0.5, width=0.8, capsize=5)\n",
    "ax.set_xticks(topics)\n",
    "ax.set_yticks(np.arange(0,9))\n",
    "ax.set_title('Mean message length in tokens: topic assignment with LDA')\n",
    "ax.set_xlabel('Topic')\n",
    "ax.set_ylabel('Length')\n",
    "ax.yaxis.grid(True);"
   ]
  },
  {
   "cell_type": "code",
   "execution_count": 29,
   "id": "42a05f5e",
   "metadata": {},
   "outputs": [
    {
     "data": {
      "image/png": "[encoded data removed]",
      "text/plain": [
       "<Figure size 864x432 with 1 Axes>"
      ]
     },
     "metadata": {
      "needs_background": "light"
     },
     "output_type": "display_data"
    }
   ],
   "source": [
    "fig, ax = plt.subplots(figsize=(12,6))\n",
    "ax.bar(range(1,11), char, color='Orange', ecolor='Black', yerr=charsd, alpha=0.75, width=0.8, capsize=5)\n",
    "ax.set_xticks(topics)\n",
    "ax.set_yticks(np.arange(0,41,5))\n",
    "ax.set_title('Mean message length in characters: topic assignment with LDA')\n",
    "ax.set_xlabel('Topic')\n",
    "ax.set_ylabel('Length')\n",
    "ax.yaxis.grid(True);"
   ]
  },
  {
   "cell_type": "code",
   "execution_count": 30,
   "id": "ccb196a3",
   "metadata": {},
   "outputs": [],
   "source": [
    "#Creating a data frame with exclusively sentiment-related info\n",
    "polarities = corpus.drop(columns=['message', 'tokens', 'wordlength', 'charlength'])"
   ]
  },
  {
   "cell_type": "code",
   "execution_count": 31,
   "id": "67432fe3",
   "metadata": {},
   "outputs": [],
   "source": [
    "palette1 = sns.color_palette(['#68966b', '#7b9ded', '#c46e6e'])"
   ]
  },
  {
   "cell_type": "code",
   "execution_count": 32,
   "id": "36f9e556",
   "metadata": {},
   "outputs": [
    {
     "data": {
      "image/png": "[encoded data removed]",
      "text/plain": [
       "<Figure size 864x432 with 1 Axes>"
      ]
     },
     "metadata": {
      "needs_background": "light"
     },
     "output_type": "display_data"
    }
   ],
   "source": [
    "plt.figure(figsize=(12,6))\n",
    "sns.countplot(data=polarities, x='LDA_topic', hue='polarity', \n",
    "              hue_order=['positive', 'neutral', 'negative'], palette=palette1)\n",
    "plt.title('Polarity distribution by topic: assignment with LDA')\n",
    "plt.xlabel('Topic');"
   ]
  },
  {
   "cell_type": "code",
   "execution_count": 33,
   "id": "b414fdc7",
   "metadata": {},
   "outputs": [],
   "source": [
    "#Nothing jumps out except for the much higher amount of messages assigned to topic 1\n",
    "#Given the apparent randomness and lack of cohesion of the topics, \n",
    "#I don't know why we observe this distribution"
   ]
  },
  {
   "cell_type": "code",
   "execution_count": 34,
   "id": "8e5ed9bd",
   "metadata": {},
   "outputs": [],
   "source": [
    "#NMF analysis\n",
    "#We use tfidf vectorization because we use coefficients for NMF"
   ]
  },
  {
   "cell_type": "code",
   "execution_count": 35,
   "id": "e4ea96aa",
   "metadata": {},
   "outputs": [],
   "source": [
    "#Trying to strike a balance between terms which are very unique and those which are very common\n",
    "from sklearn.feature_extraction.text import TfidfVectorizer\n",
    "tfidf = TfidfVectorizer(max_df=0.95, min_df=4, stop_words=stopwords)\n",
    "dtm_nmf = tfidf.fit_transform(corpus['message'])"
   ]
  },
  {
   "cell_type": "code",
   "execution_count": 36,
   "id": "3e1cf897",
   "metadata": {},
   "outputs": [
    {
     "data": {
      "text/plain": [
       "NMF(n_components=10, random_state=114)"
      ]
     },
     "execution_count": 36,
     "metadata": {},
     "output_type": "execute_result"
    }
   ],
   "source": [
    "from sklearn.decomposition import NMF\n",
    "nmf = NMF(n_components=10, random_state=114)\n",
    "nmf.fit(dtm_nmf)"
   ]
  },
  {
   "cell_type": "code",
   "execution_count": 37,
   "id": "096d3e6a",
   "metadata": {},
   "outputs": [
    {
     "name": "stdout",
     "output_type": "stream",
     "text": [
      "Top 20 words for topic 1:\n",
      "['heck', 'yw', 'wow', 'bruh', 'rip', 'muted', 'eat', 'sure', 'tell', 'going', 'cool', 'time', 'new', 'thing', 'sweet', 'trolley', 'idk', 'yeah', 'know', 'lol']\n",
      "\n",
      "\n",
      "Top 20 words for topic 2:\n",
      "['guys', 'toons', 'follow', 'ppl', 'know', 'away', 'jelly', 'throw', 'real', 'say', 'time', 'drop', 'jump', 'love', 'plz', 'wants', 'poor', 'want', 'pls', 'beans']\n",
      "\n",
      "\n",
      "Top 20 words for topic 3:\n",
      "['thought', 'turn', 'mad', 'yall', 'omg', 'funny', 'duck', 'gotta', 'help', 'friend', 'plz', 'super', 'paige', 'papa', 'castle', 'phil', 'hope', 'sweet', 'real', 'ty']\n",
      "\n",
      "\n",
      "Top 20 words for topic 4:\n",
      "['good', 'real', 'boy', 'bestie', 'crying', 'mad', 'dandy', 'open', 'plz', 'wisdom', 'easy', 'stay', 'baby', 'night', 'way', 'say', 'pls', 'life', 'said', 'yes']\n",
      "\n",
      "\n",
      "Top 20 words for topic 5:\n",
      "['look', 'change', 'tysm', 'people', 'told', 'toontown', 'great', 'nah', 'says', 'miss', 'dang', 'person', 'kind', 'ugh', 'guys', 'wow', 'dad', 'alright', 'million', 'thanks']\n",
      "\n",
      "\n",
      "Top 20 words for topic 6:\n",
      "['pet', 'shirt', 'toon', 'maxed', 'laff', 'lvl', 'rip', 'care', 'trolley', 'friends', 'cogs', 'people', 'fish', '12', 'help', 'game', 'jellybeans', 'doodle', 'gags', 'need']\n",
      "\n",
      "\n",
      "Top 20 words for topic 7:\n",
      "['money', 'steel', 'gift', 'times', 'making', 'main', 'years', 'toon', 'huh', 'working', 'girl', 'time', 'thing', 'wood', 'yeah', 'bad', 'fun', 'toons', 'friend', 'good']\n",
      "\n",
      "\n",
      "Top 20 words for topic 8:\n",
      "['tiny', 'black', 'know', 'yall', 'gave', 'away', 'besties', 'people', 'wednesday', 'baby', 'later', 'ily', 'stuff', 'wow', 'jellybeans', 'guys', 'yay', 'cat', 'love', 'thank']\n",
      "\n",
      "\n",
      "Top 20 words for topic 9:\n",
      "['change', 'feel', 'gloves', 'matching', 'kind', 'person', 'wanna', 'tiny', 'dad', 'talk', 'bruh', 'look', 'right', 'toons', 'laggy', 'love', 'nice', 'toon', 'tysm', 'omg']\n",
      "\n",
      "\n",
      "Top 20 words for topic 10:\n",
      "['200', 'green', 'unites', 'baby', 'whisper', 'man', 'friends', 'day', 'pay', 'moment', 'gf', 'great', 'yea', 'real', 'big', 'party', 'want', 'castle', 'people', 'bean']\n",
      "\n",
      "\n"
     ]
    }
   ],
   "source": [
    "for index, topic in enumerate(nmf.components_):\n",
    "    print(f\"Top 20 words for topic {index+1}:\")\n",
    "    print([tfidf.get_feature_names()[i] for i in topic.argsort()[-20:]])\n",
    "    print('\\n')"
   ]
  },
  {
   "cell_type": "code",
   "execution_count": 38,
   "id": "9ac6f1e6",
   "metadata": {},
   "outputs": [],
   "source": [
    "topic = nmf.transform(dtm_nmf)\n",
    "corpus['NMF_topic'] = (topic.argmax(axis=1)+1)"
   ]
  },
  {
   "cell_type": "code",
   "execution_count": 39,
   "id": "07034299",
   "metadata": {},
   "outputs": [],
   "source": [
    "#Checking out metrics again for NMF topics"
   ]
  },
  {
   "cell_type": "code",
   "execution_count": 40,
   "id": "bbba858d",
   "metadata": {},
   "outputs": [],
   "source": [
    "wordlen_mean2 = dict.fromkeys(range(1,11))\n",
    "wordlen_std2 = dict.fromkeys(range(1,11))\n",
    "charlen_mean2 = dict.fromkeys(range(1,11))\n",
    "charlen_std2 = dict.fromkeys(range(1,11))"
   ]
  },
  {
   "cell_type": "code",
   "execution_count": 41,
   "id": "b3a14754",
   "metadata": {},
   "outputs": [],
   "source": [
    "for i in range(1,11):\n",
    "    wordlen_mean2[i] = corpus[corpus['NMF_topic'] == i].describe()['wordlength']['mean']\n",
    "wordmeans2 = list(wordlen_mean2.values())\n",
    "    \n",
    "for i in range(1,11):\n",
    "    wordlen_std2[i] = corpus[corpus['NMF_topic'] == i].describe()['wordlength']['std']\n",
    "wordstds2 = list(wordlen_std2.values())\n",
    "\n",
    "for i in range(1,11):\n",
    "    charlen_mean2[i] = corpus[corpus['NMF_topic'] == i].describe()['charlength']['mean']\n",
    "charmeans2 = list(charlen_mean2.values())\n",
    "    \n",
    "for i in range(1,11):\n",
    "    charlen_std2[i] = corpus[corpus['NMF_topic'] == i].describe()['charlength']['std']\n",
    "charstds2 = list(charlen_std2.values())"
   ]
  },
  {
   "cell_type": "code",
   "execution_count": 42,
   "id": "38b3ba9c",
   "metadata": {},
   "outputs": [],
   "source": [
    "metrics2 = pd.DataFrame({'topic':np.arange(1,11),\n",
    "                               'word_len_mean': wordmeans2,\n",
    "                              'word_len_std': wordstds2,\n",
    "                              'char_len_mean': charmeans2,\n",
    "                              'char_len_std': charstds2},\n",
    "                             index=np.arange(1,11))\n",
    "\n",
    "topics = range(1,11)\n",
    "means2 = metrics['word_len_mean'].values\n",
    "sd2 = metrics['word_len_std'].values\n",
    "char2 = metrics['char_len_mean'].values\n",
    "charsd2 = metrics['char_len_std'].values"
   ]
  },
  {
   "cell_type": "code",
   "execution_count": 43,
   "id": "83e5f599",
   "metadata": {},
   "outputs": [
    {
     "data": {
      "image/png": "[encoded data removed]",
      "text/plain": [
       "<Figure size 864x432 with 1 Axes>"
      ]
     },
     "metadata": {
      "needs_background": "light"
     },
     "output_type": "display_data"
    }
   ],
   "source": [
    "fig, ax = plt.subplots(figsize=(12,6))\n",
    "ax.bar(range(1,11), means2, color='Green', ecolor='Black', yerr=sd2, alpha=0.5, width=0.8, capsize=5)\n",
    "ax.set_xticks(topics)\n",
    "ax.set_yticks(np.arange(0,9))\n",
    "ax.set_title('Mean message length in tokens: topic assignment with NMF')\n",
    "ax.set_xlabel('Topic')\n",
    "ax.set_ylabel('Length')\n",
    "ax.yaxis.grid(True);"
   ]
  },
  {
   "cell_type": "code",
   "execution_count": 44,
   "id": "3ec81b31",
   "metadata": {},
   "outputs": [
    {
     "data": {
      "image/png": "[encoded data removed]",
      "text/plain": [
       "<Figure size 864x432 with 1 Axes>"
      ]
     },
     "metadata": {
      "needs_background": "light"
     },
     "output_type": "display_data"
    }
   ],
   "source": [
    "fig, ax = plt.subplots(figsize=(12,6))\n",
    "ax.bar(range(1,11), char2, color='Navy', ecolor='Black', yerr=charsd2, alpha=0.75, width=0.8, capsize=5)\n",
    "ax.set_xticks(topics)\n",
    "ax.set_yticks(np.arange(0,41,5))\n",
    "ax.set_title('Mean message length in characters: topic assignment with NMF')\n",
    "ax.set_xlabel('Topic')\n",
    "ax.set_ylabel('Length')\n",
    "ax.yaxis.grid(True);"
   ]
  },
  {
   "cell_type": "code",
   "execution_count": 45,
   "id": "9930fe31",
   "metadata": {},
   "outputs": [],
   "source": [
    "#Data frame for comparing sentiment info across NMF-assigned topics\n",
    "polarities2 = corpus.drop(columns=['message', 'tokens', 'wordlength', 'charlength', 'LDA_topic'])"
   ]
  },
  {
   "cell_type": "code",
   "execution_count": 46,
   "id": "7b861bf6",
   "metadata": {},
   "outputs": [
    {
     "data": {
      "image/png": "[encoded data removed]",
      "text/plain": [
       "<Figure size 864x432 with 1 Axes>"
      ]
     },
     "metadata": {
      "needs_background": "light"
     },
     "output_type": "display_data"
    }
   ],
   "source": [
    "plt.figure(figsize=(12,6))\n",
    "sns.countplot(data=polarities2, x='NMF_topic', hue='polarity', \n",
    "              hue_order=['positive', 'neutral', 'negative'], palette=palette1)\n",
    "plt.title('Polarity distribution by topic: assignment with NMF')\n",
    "plt.xlabel('Topic');"
   ]
  },
  {
   "cell_type": "code",
   "execution_count": 47,
   "id": "f051ca53",
   "metadata": {},
   "outputs": [],
   "source": [
    "#Topic 1 has been assigned the very large majority of messages and some topics have nearly zero!"
   ]
  },
  {
   "cell_type": "code",
   "execution_count": 48,
   "id": "1892ad6b",
   "metadata": {},
   "outputs": [
    {
     "name": "stdout",
     "output_type": "stream",
     "text": [
      "Topic 1: 1650 messages\n",
      "Topic 2: 272 messages\n",
      "Topic 3: 78 messages\n",
      "Topic 4: 178 messages\n",
      "Topic 5: 61 messages\n",
      "Topic 6: 329 messages\n",
      "Topic 7: 500 messages\n",
      "Topic 8: 167 messages\n",
      "Topic 9: 401 messages\n",
      "Topic 10: 364 messages\n"
     ]
    }
   ],
   "source": [
    "#How many messages ended up in each NMF topic?\n",
    "topic_counts = corpus['NMF_topic'].value_counts()\n",
    "for i in range(1,11):\n",
    "    print(f\"Topic {i}:\", topic_counts[i], \"messages\")"
   ]
  },
  {
   "cell_type": "code",
   "execution_count": 49,
   "id": "0706a2bf",
   "metadata": {},
   "outputs": [],
   "source": [
    "#Why is this distribution the way that it is?\n",
    "#Once again, based on the top 20 words for each topic, no topic has cohesive, specific subject matter\n",
    "#There is also no similarity between LDA and NMF in terms of the top 20 words for each of the 10 topics"
   ]
  },
  {
   "cell_type": "code",
   "execution_count": null,
   "id": "7ec93103-e361-4b51-8f5d-97222c21f191",
   "metadata": {},
   "outputs": [],
   "source": []
  }
 ],
 "metadata": {
  "kernelspec": {
   "display_name": "Python 3 (ipykernel)",
   "language": "python",
   "name": "python3"
  },
  "language_info": {
   "codemirror_mode": {
    "name": "ipython",
    "version": 3
   },
   "file_extension": ".py",
   "mimetype": "text/x-python",
   "name": "python",
   "nbconvert_exporter": "python",
   "pygments_lexer": "ipython3",
   "version": "3.9.7"
  }
 },
 "nbformat": 4,
 "nbformat_minor": 5
}
